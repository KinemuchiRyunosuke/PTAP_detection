{
 "cells": [
  {
   "cell_type": "code",
   "execution_count": 1,
   "metadata": {},
   "outputs": [],
   "source": [
    "import pandas as pd"
   ]
  },
  {
   "cell_type": "code",
   "execution_count": 2,
   "metadata": {},
   "outputs": [
    {
     "data": {
      "text/html": [
       "<div>\n",
       "<style scoped>\n",
       "    .dataframe tbody tr th:only-of-type {\n",
       "        vertical-align: middle;\n",
       "    }\n",
       "\n",
       "    .dataframe tbody tr th {\n",
       "        vertical-align: top;\n",
       "    }\n",
       "\n",
       "    .dataframe thead th {\n",
       "        text-align: right;\n",
       "    }\n",
       "</style>\n",
       "<table border=\"1\" class=\"dataframe\">\n",
       "  <thead>\n",
       "    <tr style=\"text-align: right;\">\n",
       "      <th></th>\n",
       "      <th>virus</th>\n",
       "      <th>protein</th>\n",
       "      <th>seq</th>\n",
       "    </tr>\n",
       "  </thead>\n",
       "  <tbody>\n",
       "    <tr>\n",
       "      <th>0</th>\n",
       "      <td>Zaire_ebolavirus</td>\n",
       "      <td>GP</td>\n",
       "      <td>ISTIGIRPSSSQIPSSSPTTAPSPEA</td>\n",
       "    </tr>\n",
       "    <tr>\n",
       "      <th>1</th>\n",
       "      <td>Zaire_ebolavirus</td>\n",
       "      <td>GP</td>\n",
       "      <td>TSGPSVMATEEPTTPPGSSPGPTTEA</td>\n",
       "    </tr>\n",
       "    <tr>\n",
       "      <th>2</th>\n",
       "      <td>Zaire_ebolavirus</td>\n",
       "      <td>GP</td>\n",
       "      <td>MQISTIGIRPSSSQIPSSSPTTAPSP</td>\n",
       "    </tr>\n",
       "    <tr>\n",
       "      <th>3</th>\n",
       "      <td>Zaire_ebolavirus</td>\n",
       "      <td>GP</td>\n",
       "      <td>GPSVMATEEPTTPPGSSPGPTTEAPT</td>\n",
       "    </tr>\n",
       "    <tr>\n",
       "      <th>4</th>\n",
       "      <td>Zaire_ebolavirus</td>\n",
       "      <td>VP40</td>\n",
       "      <td>MRRVILPTAPPEYMEAIYPARSNSTI</td>\n",
       "    </tr>\n",
       "  </tbody>\n",
       "</table>\n",
       "</div>"
      ],
      "text/plain": [
       "              virus protein                         seq\n",
       "0  Zaire_ebolavirus      GP  ISTIGIRPSSSQIPSSSPTTAPSPEA\n",
       "1  Zaire_ebolavirus      GP  TSGPSVMATEEPTTPPGSSPGPTTEA\n",
       "2  Zaire_ebolavirus      GP  MQISTIGIRPSSSQIPSSSPTTAPSP\n",
       "3  Zaire_ebolavirus      GP  GPSVMATEEPTTPPGSSPGPTTEAPT\n",
       "4  Zaire_ebolavirus    VP40  MRRVILPTAPPEYMEAIYPARSNSTI"
      ]
     },
     "execution_count": 2,
     "metadata": {},
     "output_type": "execute_result"
    }
   ],
   "source": [
    "path = '../reports/result/positive_pred.csv'\n",
    "df = pd.read_csv(path, header=None, names=['virus', 'protein', 'seq'])\n",
    "df.head()"
   ]
  },
  {
   "cell_type": "code",
   "execution_count": 3,
   "metadata": {},
   "outputs": [],
   "source": [
    "def countup(dict, seq):\n",
    "    for char in seq:\n",
    "        try:\n",
    "            dict[char] += 1\n",
    "        except KeyError:\n",
    "            dict[char] = 1\n",
    "    \n",
    "    return dict"
   ]
  },
  {
   "cell_type": "code",
   "execution_count": 7,
   "metadata": {},
   "outputs": [
    {
     "data": {
      "text/plain": [
       "{'I': 0.04036161135741686,\n",
       " 'S': 0.13540110658333432,\n",
       " 'T': 0.07541138370717367,\n",
       " 'G': 0.0032026385917950312,\n",
       " 'R': 0.05164254729269488,\n",
       " 'P': 0.21022693323454547,\n",
       " 'Q': 0.032791195133901364,\n",
       " 'A': 0.12281760495213967,\n",
       " 'E': 0.034255087773807674,\n",
       " 'V': 0.05019657986878742,\n",
       " 'M': 0.061686643324052055,\n",
       " 'L': 0.061543241596061234,\n",
       " 'Y': 0.030108387806073063,\n",
       " 'N': 0.00932111231940345,\n",
       " 'K': 0.02755703206223635,\n",
       " 'C': 0.007833319391498667,\n",
       " 'D': 0.04522531996510558,\n",
       " 'W': 2.3900287998470383e-05,\n",
       " 'F': 0.0003883796799751437,\n",
       " 'H': 5.975071999617596e-06}"
      ]
     },
     "execution_count": 7,
     "metadata": {},
     "output_type": "execute_result"
    }
   ],
   "source": [
    "amino_composition = {}\n",
    "sum = 0\n",
    "\n",
    "for seq in df.loc[:, 'seq']:\n",
    "    amino_composition = countup(amino_composition, seq)\n",
    "    sum += len(seq)\n",
    "\n",
    "for key in amino_composition.keys():\n",
    "    amino_composition[key] /= sum\n",
    "\n",
    "amino_composition"
   ]
  },
  {
   "cell_type": "code",
   "execution_count": 8,
   "metadata": {},
   "outputs": [
    {
     "data": {
      "text/plain": [
       "[('P', 0.21022693323454547),\n",
       " ('S', 0.13540110658333432),\n",
       " ('A', 0.12281760495213967),\n",
       " ('T', 0.07541138370717367),\n",
       " ('M', 0.061686643324052055),\n",
       " ('L', 0.061543241596061234),\n",
       " ('R', 0.05164254729269488),\n",
       " ('V', 0.05019657986878742),\n",
       " ('D', 0.04522531996510558),\n",
       " ('I', 0.04036161135741686),\n",
       " ('E', 0.034255087773807674),\n",
       " ('Q', 0.032791195133901364),\n",
       " ('Y', 0.030108387806073063),\n",
       " ('K', 0.02755703206223635),\n",
       " ('N', 0.00932111231940345),\n",
       " ('C', 0.007833319391498667),\n",
       " ('G', 0.0032026385917950312),\n",
       " ('F', 0.0003883796799751437),\n",
       " ('W', 2.3900287998470383e-05),\n",
       " ('H', 5.975071999617596e-06)]"
      ]
     },
     "execution_count": 8,
     "metadata": {},
     "output_type": "execute_result"
    }
   ],
   "source": [
    "amino_composition = sorted(amino_composition.items(), key=lambda x:x[1], reverse=True)\n",
    "amino_composition"
   ]
  },
  {
   "cell_type": "code",
   "execution_count": null,
   "metadata": {},
   "outputs": [],
   "source": []
  }
 ],
 "metadata": {
  "kernelspec": {
   "display_name": "Python 3.8.10 64-bit",
   "language": "python",
   "name": "python3"
  },
  "language_info": {
   "codemirror_mode": {
    "name": "ipython",
    "version": 3
   },
   "file_extension": ".py",
   "mimetype": "text/x-python",
   "name": "python",
   "nbconvert_exporter": "python",
   "pygments_lexer": "ipython3",
   "version": "3.8.10"
  },
  "orig_nbformat": 4,
  "vscode": {
   "interpreter": {
    "hash": "916dbcbb3f70747c44a77c7bcd40155683ae19c65e1c03b4aa3499c5328201f1"
   }
  }
 },
 "nbformat": 4,
 "nbformat_minor": 2
}
