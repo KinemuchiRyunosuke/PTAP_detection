{
 "cells": [
  {
   "cell_type": "code",
   "execution_count": null,
   "metadata": {},
   "outputs": [],
   "source": [
    "import pandas as pd"
   ]
  },
  {
   "cell_type": "code",
   "execution_count": null,
   "metadata": {},
   "outputs": [],
   "source": [
    "path = '../reports/result/positive_pred.csv'\n",
    "df = pd.read_csv(path, header=None, names=['virus', 'protein', 'seq'])\n",
    "df.head()"
   ]
  },
  {
   "cell_type": "code",
   "execution_count": null,
   "metadata": {},
   "outputs": [],
   "source": [
    "def countup(dict, seq):\n",
    "    for char in seq:\n",
    "        try:\n",
    "            dict[char] += 1\n",
    "        except KeyError:\n",
    "            dict[char] = 1\n",
    "    \n",
    "    return dict"
   ]
  },
  {
   "cell_type": "code",
   "execution_count": null,
   "metadata": {},
   "outputs": [],
   "source": [
    "amino_composition = {}\n",
    "sum = 0\n",
    "\n",
    "for seq in df.loc[:, 'seq']:\n",
    "    amino_composition = countup(amino_composition, seq)\n",
    "    sum += len(seq)\n",
    "\n",
    "for key in amino_composition.keys():\n",
    "    amino_composition[key] /= sum\n",
    "\n",
    "amino_composition"
   ]
  },
  {
   "cell_type": "code",
   "execution_count": null,
   "metadata": {},
   "outputs": [],
   "source": [
    "amino_composition = sorted(amino_composition.items(), key=lambda x:x[1], reverse=True)\n",
    "amino_composition"
   ]
  }
 ],
 "metadata": {
  "kernelspec": {
   "display_name": "Python 3.8.10 64-bit",
   "language": "python",
   "name": "python3"
  },
  "language_info": {
   "codemirror_mode": {
    "name": "ipython",
    "version": 3
   },
   "file_extension": ".py",
   "mimetype": "text/x-python",
   "name": "python",
   "nbconvert_exporter": "python",
   "pygments_lexer": "ipython3",
   "version": "3.8.10"
  },
  "orig_nbformat": 4,
  "vscode": {
   "interpreter": {
    "hash": "916dbcbb3f70747c44a77c7bcd40155683ae19c65e1c03b4aa3499c5328201f1"
   }
  }
 },
 "nbformat": 4,
 "nbformat_minor": 2
}
