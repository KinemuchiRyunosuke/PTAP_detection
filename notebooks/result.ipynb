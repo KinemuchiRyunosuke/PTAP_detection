{
 "cells": [
  {
   "cell_type": "code",
   "execution_count": 1,
   "metadata": {},
   "outputs": [
    {
     "name": "stdout",
     "output_type": "stream",
     "text": [
      "/home/muchio1124/Work/Study/NES_detection\n"
     ]
    },
    {
     "data": {
      "text/plain": [
       "'/home/muchio1124/Work/Study/NES_detection'"
      ]
     },
     "execution_count": 1,
     "metadata": {},
     "output_type": "execute_result"
    }
   ],
   "source": [
    "%cd ..\n",
    "%pwd"
   ]
  },
  {
   "cell_type": "code",
   "execution_count": 2,
   "metadata": {},
   "outputs": [
    {
     "data": {
      "text/html": [
       "<div>\n",
       "<style scoped>\n",
       "    .dataframe tbody tr th:only-of-type {\n",
       "        vertical-align: middle;\n",
       "    }\n",
       "\n",
       "    .dataframe tbody tr th {\n",
       "        vertical-align: top;\n",
       "    }\n",
       "\n",
       "    .dataframe thead th {\n",
       "        text-align: right;\n",
       "    }\n",
       "</style>\n",
       "<table border=\"1\" class=\"dataframe\">\n",
       "  <thead>\n",
       "    <tr style=\"text-align: right;\">\n",
       "      <th></th>\n",
       "      <th>Unnamed: 0</th>\n",
       "      <th>virus</th>\n",
       "      <th>tn</th>\n",
       "      <th>fp</th>\n",
       "      <th>fn</th>\n",
       "      <th>tp</th>\n",
       "    </tr>\n",
       "  </thead>\n",
       "  <tbody>\n",
       "    <tr>\n",
       "      <th>0</th>\n",
       "      <td>0</td>\n",
       "      <td>HIV-1</td>\n",
       "      <td>470337.0</td>\n",
       "      <td>43.0</td>\n",
       "      <td>1.0</td>\n",
       "      <td>3171.0</td>\n",
       "    </tr>\n",
       "    <tr>\n",
       "      <th>1</th>\n",
       "      <td>0</td>\n",
       "      <td>HTLV-1</td>\n",
       "      <td>302187.0</td>\n",
       "      <td>10.0</td>\n",
       "      <td>0.0</td>\n",
       "      <td>811.0</td>\n",
       "    </tr>\n",
       "    <tr>\n",
       "      <th>2</th>\n",
       "      <td>0</td>\n",
       "      <td>influenza_A_virus_H1N1</td>\n",
       "      <td>260699.0</td>\n",
       "      <td>125.0</td>\n",
       "      <td>3.0</td>\n",
       "      <td>506.0</td>\n",
       "    </tr>\n",
       "  </tbody>\n",
       "</table>\n",
       "</div>"
      ],
      "text/plain": [
       "   Unnamed: 0                   virus        tn     fp   fn      tp\n",
       "0           0                   HIV-1  470337.0   43.0  1.0  3171.0\n",
       "1           0                  HTLV-1  302187.0   10.0  0.0   811.0\n",
       "2           0  influenza_A_virus_H1N1  260699.0  125.0  3.0   506.0"
      ]
     },
     "execution_count": 2,
     "metadata": {},
     "output_type": "execute_result"
    }
   ],
   "source": [
    "import pandas as pd\n",
    "\n",
    "path = 'reports/result/evaluation.csv'\n",
    "df = pd.read_csv(path)\n",
    "df"
   ]
  },
  {
   "cell_type": "code",
   "execution_count": 3,
   "metadata": {},
   "outputs": [
    {
     "data": {
      "text/html": [
       "<div>\n",
       "<style scoped>\n",
       "    .dataframe tbody tr th:only-of-type {\n",
       "        vertical-align: middle;\n",
       "    }\n",
       "\n",
       "    .dataframe tbody tr th {\n",
       "        vertical-align: top;\n",
       "    }\n",
       "\n",
       "    .dataframe thead th {\n",
       "        text-align: right;\n",
       "    }\n",
       "</style>\n",
       "<table border=\"1\" class=\"dataframe\">\n",
       "  <thead>\n",
       "    <tr style=\"text-align: right;\">\n",
       "      <th></th>\n",
       "      <th>precision</th>\n",
       "      <th>recall</th>\n",
       "    </tr>\n",
       "    <tr>\n",
       "      <th>virus</th>\n",
       "      <th></th>\n",
       "      <th></th>\n",
       "    </tr>\n",
       "  </thead>\n",
       "  <tbody>\n",
       "    <tr>\n",
       "      <th>HIV-1</th>\n",
       "      <td>0.986621</td>\n",
       "      <td>0.999685</td>\n",
       "    </tr>\n",
       "    <tr>\n",
       "      <th>HTLV-1</th>\n",
       "      <td>0.987820</td>\n",
       "      <td>1.000000</td>\n",
       "    </tr>\n",
       "    <tr>\n",
       "      <th>influenza_A_virus_H1N1</th>\n",
       "      <td>0.801902</td>\n",
       "      <td>0.994106</td>\n",
       "    </tr>\n",
       "  </tbody>\n",
       "</table>\n",
       "</div>"
      ],
      "text/plain": [
       "                        precision    recall\n",
       "virus                                      \n",
       "HIV-1                    0.986621  0.999685\n",
       "HTLV-1                   0.987820  1.000000\n",
       "influenza_A_virus_H1N1   0.801902  0.994106"
      ]
     },
     "execution_count": 3,
     "metadata": {},
     "output_type": "execute_result"
    }
   ],
   "source": [
    "def recall(group):\n",
    "    return group['tp'].sum() / (group['tp'].sum() + group['fn'].sum())\n",
    "    \n",
    "def precision(group):\n",
    "    return group['tp'].sum() / (group['tp'].sum() + group['fp'].sum())\n",
    "\n",
    "df_virus = pd.DataFrame(columns=['precision', 'recall'])\n",
    "df_virus['recall'] = df.groupby('virus').apply(recall)\n",
    "df_virus['precision'] = df.groupby('virus').apply(precision)\n",
    "\n",
    "df_virus"
   ]
  },
  {
   "cell_type": "code",
   "execution_count": 4,
   "metadata": {},
   "outputs": [
    {
     "data": {
      "text/html": [
       "<div>\n",
       "<style scoped>\n",
       "    .dataframe tbody tr th:only-of-type {\n",
       "        vertical-align: middle;\n",
       "    }\n",
       "\n",
       "    .dataframe tbody tr th {\n",
       "        vertical-align: top;\n",
       "    }\n",
       "\n",
       "    .dataframe thead th {\n",
       "        text-align: right;\n",
       "    }\n",
       "</style>\n",
       "<table border=\"1\" class=\"dataframe\">\n",
       "  <thead>\n",
       "    <tr style=\"text-align: right;\">\n",
       "      <th></th>\n",
       "      <th>n_negative</th>\n",
       "      <th>n_positive</th>\n",
       "      <th>positive_rate</th>\n",
       "    </tr>\n",
       "    <tr>\n",
       "      <th>virus</th>\n",
       "      <th></th>\n",
       "      <th></th>\n",
       "      <th></th>\n",
       "    </tr>\n",
       "  </thead>\n",
       "  <tbody>\n",
       "    <tr>\n",
       "      <th>HIV-1</th>\n",
       "      <td>470380.0</td>\n",
       "      <td>3172.0</td>\n",
       "      <td>0.006698</td>\n",
       "    </tr>\n",
       "    <tr>\n",
       "      <th>HTLV-1</th>\n",
       "      <td>302197.0</td>\n",
       "      <td>811.0</td>\n",
       "      <td>0.002676</td>\n",
       "    </tr>\n",
       "    <tr>\n",
       "      <th>influenza_A_virus_H1N1</th>\n",
       "      <td>260824.0</td>\n",
       "      <td>509.0</td>\n",
       "      <td>0.001948</td>\n",
       "    </tr>\n",
       "  </tbody>\n",
       "</table>\n",
       "</div>"
      ],
      "text/plain": [
       "                        n_negative  n_positive  positive_rate\n",
       "virus                                                        \n",
       "HIV-1                     470380.0      3172.0       0.006698\n",
       "HTLV-1                    302197.0       811.0       0.002676\n",
       "influenza_A_virus_H1N1    260824.0       509.0       0.001948"
      ]
     },
     "execution_count": 4,
     "metadata": {},
     "output_type": "execute_result"
    }
   ],
   "source": [
    "def n_negative(group):\n",
    "    return group['tn'].sum() + group['fp'].sum()\n",
    "    \n",
    "def n_positive(group):\n",
    "    return group['fn'].sum() + group['tp'].sum()\n",
    "    \n",
    "df_virus = pd.DataFrame(columns=['n_negative', 'n_positive'])\n",
    "df_virus['n_negative'] = df.groupby('virus').apply(n_negative)\n",
    "df_virus['n_positive'] = df.groupby('virus').apply(n_positive)\n",
    "\n",
    "df_virus['positive_rate'] = df_virus['n_positive'] / \\\n",
    "      (df_virus['n_positive'] + df_virus['n_negative'])\n",
    "\n",
    "df_virus"
   ]
  }
 ],
 "metadata": {
  "kernelspec": {
   "display_name": "Python 3",
   "language": "python",
   "name": "python3"
  },
  "language_info": {
   "codemirror_mode": {
    "name": "ipython",
    "version": 3
   },
   "file_extension": ".py",
   "mimetype": "text/x-python",
   "name": "python",
   "nbconvert_exporter": "python",
   "pygments_lexer": "ipython3",
   "version": "3.8.10"
  },
  "orig_nbformat": 4
 },
 "nbformat": 4,
 "nbformat_minor": 2
}
