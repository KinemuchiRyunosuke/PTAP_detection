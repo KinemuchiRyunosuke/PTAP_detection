{
 "cells": [
  {
   "attachments": {},
   "cell_type": "markdown",
   "metadata": {},
   "source": [
    "# モデルの性能を評価"
   ]
  },
  {
   "cell_type": "code",
   "execution_count": null,
   "metadata": {},
   "outputs": [],
   "source": [
    "target_motif = \"PTAP\""
   ]
  },
  {
   "cell_type": "code",
   "execution_count": null,
   "metadata": {},
   "outputs": [],
   "source": [
    "%cd ..\n",
    "%pwd"
   ]
  },
  {
   "cell_type": "code",
   "execution_count": null,
   "metadata": {},
   "outputs": [],
   "source": [
    "import pandas as pd\n",
    "\n",
    "pd.set_option('display.max_rows', None)\n",
    "pd.set_option('display.max_columns', None)\n",
    "pd.set_option('display.max_colwidth', None)\n",
    "\n",
    "path = 'reports/performance_evaluation.csv'\n",
    "df = pd.read_csv(path)\n",
    "df"
   ]
  },
  {
   "cell_type": "markdown",
   "metadata": {},
   "source": [
    "# 学習データセットに対する性能を表示"
   ]
  },
  {
   "attachments": {},
   "cell_type": "markdown",
   "metadata": {},
   "source": [
    "ウイルス毎に結果をまとめる"
   ]
  },
  {
   "cell_type": "code",
   "execution_count": null,
   "metadata": {},
   "outputs": [],
   "source": [
    "def recall(group):\n",
    "    return group['tp'].sum() / (group['tp'].sum() + group['fn'].sum())\n",
    "\n",
    "def precision(group):\n",
    "    return group['tp'].sum() / (group['tp'].sum() + group['fp'].sum())\n",
    "\n",
    "df_virus = pd.DataFrame(columns=['precision', 'recall'])\n",
    "df_virus['recall'] = df.groupby('virus').apply(recall)\n",
    "df_virus['precision'] = df.groupby('virus').apply(precision)\n",
    "\n",
    "df_virus"
   ]
  },
  {
   "attachments": {},
   "cell_type": "markdown",
   "metadata": {},
   "source": [
    "### 学習データセット数を表示"
   ]
  },
  {
   "cell_type": "code",
   "execution_count": null,
   "metadata": {},
   "outputs": [],
   "source": [
    "path = 'reports/dataset_size.csv'\n",
    "df = pd.read_csv(path)\n",
    "df"
   ]
  },
  {
   "attachments": {},
   "cell_type": "markdown",
   "metadata": {},
   "source": [
    "ウイルス毎に学習データセット数を表示"
   ]
  },
  {
   "cell_type": "code",
   "execution_count": null,
   "metadata": {},
   "outputs": [],
   "source": [
    "df_virus = df.groupby('virus').sum()\n",
    "df_virus"
   ]
  },
  {
   "cell_type": "markdown",
   "metadata": {},
   "source": [
    "# 非学習データセットに対する評価結果"
   ]
  },
  {
   "cell_type": "code",
   "execution_count": null,
   "metadata": {},
   "outputs": [],
   "source": [
    "import json\n",
    "\n",
    "filename = \"reports/parameters.json\"\n",
    "with open(filename, 'r') as f:\n",
    "    parameters = json.load(f)\n",
    "\n",
    "eval_threshold = parameters['eval_threshold']"
   ]
  },
  {
   "cell_type": "markdown",
   "metadata": {},
   "source": [
    "学習に用いていないウイルスのアミノ酸配列に対する出力値を取得"
   ]
  },
  {
   "cell_type": "code",
   "execution_count": null,
   "metadata": {},
   "outputs": [],
   "source": [
    "filename = \"reports/positive_pred_on_nontraining_virus.csv\"\n",
    "df = pd.read_csv(filename)"
   ]
  },
  {
   "cell_type": "code",
   "execution_count": null,
   "metadata": {},
   "outputs": [],
   "source": [
    "df = df[df['output'] > eval_threshold]\n",
    "\n",
    "df"
   ]
  },
  {
   "cell_type": "markdown",
   "metadata": {},
   "source": [
    "モチーフの正規表現を満たす配列だけを抽出"
   ]
  },
  {
   "cell_type": "code",
   "execution_count": null,
   "metadata": {},
   "outputs": [],
   "source": [
    "import json\n",
    "import re\n",
    "\n",
    "\n",
    "motif_re_path = \"references/motif_regular_expression.json\"\n",
    "\n",
    "def apply_regular_expression(df):\n",
    "    with open(motif_re_path, 'r') as f:\n",
    "        motif_re = json.load(f)\n",
    "        pattern = motif_re[target_motif]\n",
    "\n",
    "    pattern = '.*' + pattern + '.*'\n",
    "    pattern = re.compile(pattern)\n",
    "\n",
    "    def pattern_match(seq):\n",
    "        if pattern.match(seq):\n",
    "            return True\n",
    "        else:\n",
    "            return False\n",
    "\n",
    "    rows_to_drop = ~df['seq'].map(pattern_match)\n",
    "    df = df.drop(df[rows_to_drop].index, inplace=True)\n",
    "\n",
    "df = apply_regular_expression(df)\n",
    "df"
   ]
  }
 ],
 "metadata": {
  "kernelspec": {
   "display_name": "Python 3",
   "language": "python",
   "name": "python3"
  },
  "language_info": {
   "codemirror_mode": {
    "name": "ipython",
    "version": 3
   },
   "file_extension": ".py",
   "mimetype": "text/x-python",
   "name": "python",
   "nbconvert_exporter": "python",
   "pygments_lexer": "ipython3",
   "version": "3.8.10"
  },
  "orig_nbformat": 4
 },
 "nbformat": 4,
 "nbformat_minor": 2
}
