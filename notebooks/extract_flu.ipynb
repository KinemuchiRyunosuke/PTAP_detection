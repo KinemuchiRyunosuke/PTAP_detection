{
 "cells": [
  {
   "cell_type": "code",
   "execution_count": 1,
   "metadata": {},
   "outputs": [
    {
     "name": "stdout",
     "output_type": "stream",
     "text": [
      "/home/muchio1124/Work/Study/NES_detection/src\n"
     ]
    },
    {
     "data": {
      "text/plain": [
       "'/home/muchio1124/Work/Study/NES_detection/src'"
      ]
     },
     "execution_count": 1,
     "metadata": {},
     "output_type": "execute_result"
    }
   ],
   "source": [
    "%cd ../src\n",
    "%pwd"
   ]
  },
  {
   "cell_type": "code",
   "execution_count": 2,
   "metadata": {},
   "outputs": [],
   "source": [
    "def have_keywords(keywords, text):\n",
    "    flag = False\n",
    "    for keyword in keywords:\n",
    "        if keyword in text:\n",
    "            flag = True\n",
    "            break\n",
    "\n",
    "    return flag"
   ]
  },
  {
   "cell_type": "code",
   "execution_count": 3,
   "metadata": {},
   "outputs": [],
   "source": [
    "from Bio import SeqIO\n",
    "\n",
    "filename_input = \"../data/raw/influenza_A_virus_H1N1.fasta\"\n",
    "filename_output = \"../data/interim/influenza_A_virus_H1N1.fasta\"\n",
    "\n",
    "f_in = open(filename_input, 'r')\n",
    "f_out = open(filename_output, 'w')\n",
    "\n",
    "keywords = ['influenza A virus', 'Influenza A virus']\n",
    "\n",
    "for record in SeqIO.parse(f_in, 'fasta'):\n",
    "    if have_keywords(keywords, record.description):\n",
    "        if 'H1N1' in record.description:\n",
    "            SeqIO.write(record, f_out, 'fasta')\n",
    "        \n",
    "f_in.close()\n",
    "f_out.close()"
   ]
  }
 ],
 "metadata": {
  "kernelspec": {
   "display_name": "Python 3",
   "language": "python",
   "name": "python3"
  },
  "language_info": {
   "codemirror_mode": {
    "name": "ipython",
    "version": 3
   },
   "file_extension": ".py",
   "mimetype": "text/x-python",
   "name": "python",
   "nbconvert_exporter": "python",
   "pygments_lexer": "ipython3",
   "version": "3.8.10"
  },
  "orig_nbformat": 4
 },
 "nbformat": 4,
 "nbformat_minor": 2
}
