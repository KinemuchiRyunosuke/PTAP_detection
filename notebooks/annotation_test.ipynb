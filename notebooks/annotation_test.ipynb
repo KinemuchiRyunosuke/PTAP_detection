{
 "cells": [
  {
   "cell_type": "code",
   "execution_count": null,
   "metadata": {},
   "outputs": [],
   "source": [
    "%cd ../src\n",
    "%pwd"
   ]
  },
  {
   "cell_type": "code",
   "execution_count": null,
   "metadata": {},
   "outputs": [],
   "source": [
    "def clean(seqs):\n",
    "    cleaned_seq = ''\n",
    "    for i, seq in enumerate(seqs):\n",
    "        seq = ''.join(seq[0].split())\n",
    "        if i == 0:\n",
    "            cleaned_seq += seq\n",
    "        else:\n",
    "            cleaned_seq += seq[-1]\n",
    "    \n",
    "    return cleaned_seq"
   ]
  },
  {
   "cell_type": "code",
   "execution_count": null,
   "metadata": {},
   "outputs": [],
   "source": [
    "def neighbor_seq(seq, label_list, neighbor=10):\n",
    "    for i in range(len(label_list)):\n",
    "        if label_list[i] > 0:\n",
    "            max_index = i\n",
    "\n",
    "    start_index = max(0, label_list.index(1) - neighbor)\n",
    "    end_index = min(len(seq), max_index + neighbor)\n",
    "\n",
    "    return seq[start_index:end_index]"
   ]
  },
  {
   "cell_type": "code",
   "execution_count": null,
   "metadata": {},
   "outputs": [],
   "source": [
    "length = 10\n",
    "separate_len = 1\n",
    "\n",
    "fasta_dir = '../data/interim/'"
   ]
  },
  {
   "cell_type": "code",
   "execution_count": null,
   "metadata": {},
   "outputs": [],
   "source": [
    "import json\n",
    "from Bio import SeqIO\n",
    "from dataset import Dataset\n",
    "\n",
    "with open('../references/motif_data.json', 'rb') as f:\n",
    "    motif_data = json.load(f)"
   ]
  },
  {
   "attachments": {},
   "cell_type": "markdown",
   "metadata": {},
   "source": [
    "陽性の配列周辺を表示"
   ]
  },
  {
   "cell_type": "code",
   "execution_count": null,
   "metadata": {},
   "outputs": [],
   "source": [
    "for content in motif_data:\n",
    "    virus = content['virus'].replace(' ', '_')\n",
    "    print(virus)\n",
    "    print('--------')\n",
    "    \n",
    "    dataset = Dataset(\n",
    "        motifs=content['motifs'],\n",
    "        length=length,\n",
    "        separate_len=separate_len\n",
    "    )\n",
    "    \n",
    "    fasta_path = f\"../data/interim/{virus}.fasta\"\n",
    "    with open(fasta_path, 'r') as f:\n",
    "        records = [record for record in SeqIO.parse(f, 'fasta')]\n",
    "\n",
    "    seqs = []\n",
    "    for record in records:\n",
    "        label_list = dataset._annotate(record)\n",
    "        label_list = [int(label > 0) for label in label_list]\n",
    "        \n",
    "        if label_list.count(1) > 0:\n",
    "            seqs.append(neighbor_seq(record.seq, label_list))\n",
    "            \n",
    "    n_samples = len(seqs)\n",
    "\n",
    "    # 重複を除去\n",
    "    seqs = list(set(seqs))\n",
    "\n",
    "    for seq in seqs:\n",
    "        print(seq)\n",
    "\n",
    "    print(\"number of samples: {}\".format(n_samples))\n",
    "    \n",
    "    print(\"===========================================\")"
   ]
  },
  {
   "attachments": {},
   "cell_type": "markdown",
   "metadata": {},
   "source": [
    "replacement_toleranceを1増やして実行し，差分を表示"
   ]
  },
  {
   "cell_type": "code",
   "execution_count": null,
   "metadata": {},
   "outputs": [],
   "source": [
    "import copy\n",
    "\n",
    "with open('../references/motif_data.json', 'rb') as f:\n",
    "    motif_data = json.load(f)\n",
    "\n",
    "for content in motif_data:\n",
    "    virus = content['virus'].replace(' ', '_')\n",
    "    print(virus)\n",
    "    print('--------')\n",
    "    \n",
    "    dataset = Dataset(\n",
    "        motifs=content['motifs'],\n",
    "        length=length,\n",
    "        separate_len=separate_len)\n",
    "    \n",
    "    dataset_rt_up = Dataset(\n",
    "        motifs=copy.deepcopy(content['motifs']),\n",
    "        length=length,\n",
    "        separate_len=separate_len)\n",
    "\n",
    "    for i in range(len(dataset_rt_up.motifs)):\n",
    "        dataset_rt_up.motifs[i]['replacement_tolerance'] += 1\n",
    "        \n",
    "    fasta_path = f\"../data/interim/{virus}.fasta\"\n",
    "    with open(fasta_path, 'r') as f:\n",
    "        records = [record for record in SeqIO.parse(f, 'fasta')]\n",
    "\n",
    "    for record in records:\n",
    "        label_list = dataset._annotate(record)\n",
    "        label_list = [int(label > 0) for label in label_list]\n",
    "        label_list_rt_up = dataset_rt_up._annotate(record)\n",
    "        label_list_rt_up = [int(label > 0) for label in label_list_rt_up]\n",
    "        \n",
    "        if (label_list.count(1) == 0) and (label_list_rt_up.count(1) > 0):\n",
    "            print(neighbor_seq(record.seq, label_list_rt_up))\n",
    "            \n",
    "    print(\"===========================================\")"
   ]
  },
  {
   "attachments": {},
   "cell_type": "markdown",
   "metadata": {},
   "source": [
    "SLiMが同定されていないタンパク質かつ，陽性とアノテーションされる配列"
   ]
  },
  {
   "cell_type": "code",
   "execution_count": null,
   "metadata": {},
   "outputs": [],
   "source": [
    "for content in motif_data:\n",
    "    virus = content['virus'].replace(' ', '_')\n",
    "    print(virus)\n",
    "    print('--------')\n",
    "    \n",
    "    dataset = Dataset(\n",
    "        motifs=content['motifs'],\n",
    "        length=length,\n",
    "        separate_len=separate_len\n",
    "    )\n",
    "    \n",
    "    fasta_path = f\"../data/interim/{virus}.fasta\"\n",
    "    with open(fasta_path, 'r') as f:\n",
    "        records = [record for record in SeqIO.parse(f, 'fasta')]\n",
    "\n",
    "    descs = []\n",
    "    for record in records:\n",
    "        if dataset._is_motif_protein(record.description):\n",
    "            continue\n",
    "        \n",
    "        label_list = dataset._annotate(record, ignore_not_motif_protein=False)\n",
    "        label_list = [int(label > 0) for label in label_list]\n",
    "        \n",
    "        if label_list.count(1) > 0:\n",
    "            descs.append(record.description)\n",
    "            \n",
    "    n_samples = len(descs)\n",
    "            \n",
    "    descs = list(set(descs))\n",
    "\n",
    "    for desc in descs:\n",
    "        print(desc)\n",
    "\n",
    "    print(\"number of samples: {}\".format(n_samples))\n",
    "    \n",
    "    print(\"===========================================\")"
   ]
  }
 ],
 "metadata": {
  "kernelspec": {
   "display_name": "Python 3.8.10 64-bit",
   "language": "python",
   "name": "python3"
  },
  "language_info": {
   "codemirror_mode": {
    "name": "ipython",
    "version": 3
   },
   "file_extension": ".py",
   "mimetype": "text/x-python",
   "name": "python",
   "nbconvert_exporter": "python",
   "pygments_lexer": "ipython3",
   "version": "3.8.10"
  },
  "orig_nbformat": 4,
  "vscode": {
   "interpreter": {
    "hash": "916dbcbb3f70747c44a77c7bcd40155683ae19c65e1c03b4aa3499c5328201f1"
   }
  }
 },
 "nbformat": 4,
 "nbformat_minor": 2
}
