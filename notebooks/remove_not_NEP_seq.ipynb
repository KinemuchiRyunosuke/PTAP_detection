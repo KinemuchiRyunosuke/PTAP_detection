{
 "cells": [
  {
   "cell_type": "code",
   "execution_count": 1,
   "metadata": {},
   "outputs": [
    {
     "name": "stdout",
     "output_type": "stream",
     "text": [
      "/home/muchio1124/Work/Study/NES_detection/src\n"
     ]
    },
    {
     "data": {
      "text/plain": [
       "'/home/muchio1124/Work/Study/NES_detection/src'"
      ]
     },
     "execution_count": 1,
     "metadata": {},
     "output_type": "execute_result"
    }
   ],
   "source": [
    "%cd ../src\n",
    "%pwd"
   ]
  },
  {
   "cell_type": "code",
   "execution_count": 2,
   "metadata": {},
   "outputs": [],
   "source": [
    "import json\n",
    "\n",
    "virus = 'HIV-1'\n",
    "\n",
    "with open('../references/motif_data.json', 'rb') as f:\n",
    "    motif_data = json.load(f)\n",
    "\n",
    "motif_dict = [motif_dict for motif_dict in motif_data if motif_dict['virus'] == virus]\n",
    "motif_dict = motif_dict[0]\n",
    "proteins = motif_dict['proteins']"
   ]
  },
  {
   "cell_type": "code",
   "execution_count": 3,
   "metadata": {},
   "outputs": [],
   "source": [
    "from dataset import Dataset\n",
    "\n",
    "length = 26\n",
    "separate_len=1\n",
    "\n",
    "dataset = Dataset(motif_dict['SLiM'],\n",
    "                  idx=motif_dict['start_index'],\n",
    "                  length=length,\n",
    "                  proteins=proteins,\n",
    "                  SLiM_protein=motif_dict['SLiM_protein'],\n",
    "                  neighbor=motif_dict['neighbor'],\n",
    "                  replacement_tolerance=motif_dict['replacement_tolerance'],\n",
    "                  threshold=len(motif_dict['SLiM']),\n",
    "                  separate_len=separate_len)"
   ]
  },
  {
   "cell_type": "code",
   "execution_count": 4,
   "metadata": {},
   "outputs": [],
   "source": [
    "from Bio import SeqIO\n",
    "from utils import determine_protein_name\n",
    "\n",
    "filename_in = \"../data/interim/HIV-1.fasta\"\n",
    "filename_out = \"../data/interim/HIV-1_new.fasta\"\n",
    "\n",
    "f_in = open(filename_in, 'r')\n",
    "f_out = open(filename_out, 'w')\n",
    "\n",
    "for record in SeqIO.parse(f_in, 'fasta'):\n",
    "    protein_name = determine_protein_name(record.description, proteins=proteins)\n",
    "\n",
    "    if protein_name == motif_dict['SLiM_protein']:\n",
    "        seqs, labels = dataset.make_dataset([record], dict=False)\n",
    "        \n",
    "        if labels.sum() == 0:\n",
    "            continue\n",
    "        \n",
    "    SeqIO.write(record, f_out, 'fasta')\n",
    "    \n",
    "f_in.close()\n",
    "f_out.close()"
   ]
  }
 ],
 "metadata": {
  "kernelspec": {
   "display_name": "Python 3",
   "language": "python",
   "name": "python3"
  },
  "language_info": {
   "codemirror_mode": {
    "name": "ipython",
    "version": 3
   },
   "file_extension": ".py",
   "mimetype": "text/x-python",
   "name": "python",
   "nbconvert_exporter": "python",
   "pygments_lexer": "ipython3",
   "version": "3.8.10"
  },
  "orig_nbformat": 4
 },
 "nbformat": 4,
 "nbformat_minor": 2
}
