{
 "cells": [
  {
   "attachments": {},
   "cell_type": "markdown",
   "metadata": {},
   "source": [
    "# タンパク質のカテゴリ分けのテスト"
   ]
  },
  {
   "cell_type": "code",
   "execution_count": null,
   "metadata": {},
   "outputs": [],
   "source": [
    "%cd ../src\n",
    "%pwd"
   ]
  },
  {
   "cell_type": "code",
   "execution_count": null,
   "metadata": {},
   "outputs": [],
   "source": [
    "import json\n",
    "from predict import target_motif\n",
    "\n",
    "motif_data_path = \"../references/motif_data.json\"\n",
    "with open(motif_data_path, 'r') as f:\n",
    "    motif_data = json.load(f)\n",
    "    motif_data = motif_data[target_motif]"
   ]
  },
  {
   "cell_type": "code",
   "execution_count": null,
   "metadata": {},
   "outputs": [],
   "source": [
    "import pandas as pd\n",
    "from Bio import SeqIO\n",
    "from dataset import classify_records\n",
    "\n",
    "\n",
    "df = pd.DataFrame(columns=['virus', 'protein', 'desc'])\n",
    "    \n",
    "for content in motif_data:\n",
    "    virus = content['virus'].replace(' ', '_')\n",
    "    protein_subnames = content['protein_subnames']\n",
    "\n",
    "    # record読み込み\n",
    "    fasta_path = f'../data/interim/{virus}.fasta'\n",
    "    with open(fasta_path, 'r') as f:\n",
    "        records = [record for record in SeqIO.parse(f, 'fasta')]\n",
    "        \n",
    "    # タンパク質のカテゴリ分け\n",
    "    records_dict = classify_records(records, protein_subnames)\n",
    "    \n",
    "    # データをDataFrameに追加\n",
    "    for protein, records in records_dict.items():\n",
    "        df2 = pd.DataFrame([[virus] * len(records),\n",
    "                            [protein] * len(records),\n",
    "                            [record.description[(len(record.id) + 1):] for record in records]],\n",
    "                            index=['virus', 'protein', 'desc'])\n",
    "        \n",
    "        df = pd.concat([df, df2.T])"
   ]
  },
  {
   "cell_type": "code",
   "execution_count": null,
   "metadata": {},
   "outputs": [],
   "source": [
    "pd.set_option('display.max_rows', None) \n",
    "pd.set_option('display.max_columns', None) \n",
    "pd.set_option('display.max_colwidth', None) \n",
    "\n",
    "df"
   ]
  }
 ],
 "metadata": {
  "kernelspec": {
   "display_name": "Python 3",
   "language": "python",
   "name": "python3"
  },
  "language_info": {
   "codemirror_mode": {
    "name": "ipython",
    "version": 3
   },
   "file_extension": ".py",
   "mimetype": "text/x-python",
   "name": "python",
   "nbconvert_exporter": "python",
   "pygments_lexer": "ipython3",
   "version": "3.8.10"
  },
  "orig_nbformat": 4
 },
 "nbformat": 4,
 "nbformat_minor": 2
}
